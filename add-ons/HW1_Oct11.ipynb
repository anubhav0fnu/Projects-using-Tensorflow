{
 "cells": [
  {
   "cell_type": "markdown",
   "metadata": {},
   "source": [
    "### Minimize the non-convex Rosenbrock function"
   ]
  },
  {
   "cell_type": "code",
   "execution_count": 33,
   "metadata": {
    "collapsed": true
   },
   "outputs": [],
   "source": [
    "import tensorflow as tf\n",
    "import argparse\n",
    "def createGraph(a,b,lr,optimiser ):\n",
    "    tf.reset_default_graph()\n",
    "    w1 = tf.get_variable(dtype=tf.float32, shape=(), name=\"w1\",\\\n",
    "                        initializer=tf.random_normal_initializer(0.0,1.0))\n",
    "    w2 = tf.get_variable(dtype=tf.float32, shape=(), name=\"w2\",\\\n",
    "                        initializer=tf.random_normal_initializer(0.0,1.0))\n",
    "    a = tf.constant(a , name=\"a\")\n",
    "    b = tf.constant(b,  name=\"b\")\n",
    "    costFunc = tf.add( tf.square( \\\n",
    "                                tf.subtract( a,\\\n",
    "                                             w1,\\\n",
    "                                             name='term1'),\n",
    "                                name='term1_sq'),\\\n",
    "                   tf.multiply( b,\\\n",
    "                                tf.square(   tf.subtract(  \\\n",
    "                                                            w2,\\\n",
    "                                                            tf.square(  w1,\\\n",
    "                                                                        name='weight1_sq'),\\\n",
    "                                                            name='term2'),\\\n",
    "                                             name='term2_sq'),\\\n",
    "                                name='term2_Sq_Mul_b'),\\\n",
    "                   name='costFunc') \n",
    "    print(a,b)\n",
    "    print(lr)\n",
    "    print(optimiser)\n",
    "    if 'gd'==optimiser:\n",
    "        train_step =tf.train.GradientDescentOptimizer(learning_rate=lr, name='GradientDescent').minimize(costFunc, name= 'train_step')\n",
    "    if 'gdm'==optimiser:\n",
    "        train_step =tf.MomentumOptimizer(learning_rate=lr,momentum=0.9, name='Momentum').minimize(costFunc, name= 'train_step')\n",
    "    if 'adam'==optimiser:\n",
    "        train_step =tf.AdamOptimizer(learning_rate=lr,name='Adam').minimize(costFunc, name= 'train_step')\n",
    "    \n",
    "    init = tf.global_variables_initializer()\n",
    "    #once you build the graph, write to file\n",
    "    file_writer= tf.summary.FileWriter(\"./datasets/myTensorboardLogs/HW1_Oct11/\", tf.get_default_graph())\n",
    "\n",
    "    sess = tf.Session()\n",
    "    sess.run(fetches=[init])\n",
    "    for x in range(10):\n",
    "        acc= sess.run(fetches=[train_step,w1,w2])\n",
    "        print('Accuracy at step %s: %s' % (x, acc))"
   ]
  },
  {
   "cell_type": "code",
   "execution_count": 34,
   "metadata": {},
   "outputs": [
    {
     "name": "stderr",
     "output_type": "stream",
     "text": [
      "usage: ipykernel_launcher.py [-h]\n",
      "                             constant [constant ...] constant [constant ...]\n",
      "                             variable [variable ...] variable [variable ...]\n",
      "ipykernel_launcher.py: error: argument constant: invalid float value: '/Users/anub229/Library/Jupyter/runtime/kernel-f089b533-8d7c-4b3f-a6fb-15adec9c4514.json'\n"
     ]
    },
    {
     "ename": "SystemExit",
     "evalue": "2",
     "output_type": "error",
     "traceback": [
      "An exception has occurred, use %tb to see the full traceback.\n",
      "\u001b[0;31mSystemExit\u001b[0m\u001b[0;31m:\u001b[0m 2\n"
     ]
    },
    {
     "name": "stderr",
     "output_type": "stream",
     "text": [
      "/Applications/anaconda3/lib/python3.6/site-packages/IPython/core/interactiveshell.py:2870: UserWarning: To exit: use 'exit', 'quit', or Ctrl-D.\n",
      "  warn(\"To exit: use 'exit', 'quit', or Ctrl-D.\", stacklevel=1)\n"
     ]
    }
   ],
   "source": [
    "def main():\n",
    "    parser = argparse.ArgumentParser(description='It Minimize the non-convex Rosenbrock function using constants a & b, a learning rate, and an optimiser ')\n",
    "# now you need to fillin the argParser\n",
    "    parser.add_argument('a', metavar='constant', type=float, nargs='+',\\\n",
    "                   help='an floating point number--constant')\n",
    "    parser.add_argument('b', metavar='constant', type=float, nargs='+',\\\n",
    "                   help='an floating point number--constant')\n",
    "    parser.add_argument('lr', metavar='variable', type=float, nargs='+',\\\n",
    "                   help='an floating point number--learning rate')\n",
    "    parser.add_argument('optimizer',choices=['gd', 'gdm', 'adam'], metavar='variable', type=str, nargs='+',\\\n",
    "                   help='the optimization algorithm')\n",
    "    args= parser.parse_args()\n",
    "#     return a dict\n",
    "#     weight1=0\n",
    "#     weight1=0\n",
    "#     weight1=0\n",
    "    createGraph(int(args.a, args.b, args.lr, args.optimizer)\n",
    "                \n",
    "\n",
    "if __name__ == '__main__':\n",
    "    main()"
   ]
  },
  {
   "cell_type": "code",
   "execution_count": null,
   "metadata": {
    "collapsed": true
   },
   "outputs": [],
   "source": []
  },
  {
   "cell_type": "code",
   "execution_count": null,
   "metadata": {
    "collapsed": true
   },
   "outputs": [],
   "source": []
  }
 ],
 "metadata": {
  "kernelspec": {
   "display_name": "Python 3",
   "language": "python",
   "name": "python3"
  },
  "language_info": {
   "codemirror_mode": {
    "name": "ipython",
    "version": 3
   },
   "file_extension": ".py",
   "mimetype": "text/x-python",
   "name": "python",
   "nbconvert_exporter": "python",
   "pygments_lexer": "ipython3",
   "version": "3.6.2"
  }
 },
 "nbformat": 4,
 "nbformat_minor": 2
}
