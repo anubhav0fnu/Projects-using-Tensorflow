{
 "cells": [
  {
   "cell_type": "code",
   "execution_count": 7,
   "metadata": {},
   "outputs": [
    {
     "name": "stdout",
     "output_type": "stream",
     "text": [
      "Tensor(\"Pow:0\", shape=(4,), dtype=int32)\n",
      "Tensor(\"Pow_1:0\", shape=(4,), dtype=int32)\n",
      "Tensor(\"Pow_2:0\", shape=(4,), dtype=int32)\n",
      "Tensor(\"Pow_3:0\", shape=(4,), dtype=int32)\n"
     ]
    }
   ],
   "source": [
    "import tensorflow as tf\n",
    "import argparse\n",
    "\n",
    "tf.reset_default_graph()\n",
    "x = tf.get_variable(dtype=tf.float32, shape=(), name=\"w1\")\n",
    "# fetch the x values from a file\n",
    "x= 1\n",
    "k=4\n",
    "stop=0\n",
    "while True:     \n",
    "    vector= tf.pow(x,k)\n",
    "    print(vector)\n",
    "    k-=1\n",
    "    if stop==k:\n",
    "        break\n",
    "\n",
    "sess = tf.Session()\n",
    "sess.run(fetches=[k])\n",
    "acc= sess.run(fetches=[])\n",
    "print('Accuracy at step %s: %s' % (x, acc))    \n",
    " file_writer= tf.summary.FileWriter(\"./datasets/myTensorboardLogs/HW2_Oct11/\", tf.get_default_graph())"
   ]
  },
  {
   "cell_type": "code",
   "execution_count": null,
   "metadata": {
    "collapsed": true
   },
   "outputs": [],
   "source": []
  }
 ],
 "metadata": {
  "kernelspec": {
   "display_name": "Python 3",
   "language": "python",
   "name": "python3"
  },
  "language_info": {
   "codemirror_mode": {
    "name": "ipython",
    "version": 3
   },
   "file_extension": ".py",
   "mimetype": "text/x-python",
   "name": "python",
   "nbconvert_exporter": "python",
   "pygments_lexer": "ipython3",
   "version": "3.6.2"
  }
 },
 "nbformat": 4,
 "nbformat_minor": 2
}
