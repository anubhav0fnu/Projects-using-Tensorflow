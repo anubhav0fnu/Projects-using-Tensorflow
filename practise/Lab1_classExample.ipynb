{
 "cells": [
  {
   "cell_type": "markdown",
   "metadata": {},
   "source": [
    "### Create a graph for finding roots of a quadratic using TensorFlow"
   ]
  },
  {
   "cell_type": "code",
   "execution_count": 50,
   "metadata": {},
   "outputs": [],
   "source": [
    "import tensorflow as tf\n",
    "# I do not want to add new node after each run of the current block\n",
    "tf.reset_default_graph()\n",
    "# with tf.name_scope('variables'):\n",
    "a = tf.placeholder(dtype=tf.float32, shape=(), name=\"a\")\n",
    "b = tf.placeholder(dtype=tf.float32, shape=(), name=\"b\")\n",
    "c = tf.placeholder(dtype=tf.float32, shape=(), name=\"c\")\n",
    "    \n",
    "discriminant= tf.sqrt( tf.subtract( tf.square(b) , tf.multiply(tf.multiply(4.0, a),c ), name= \"discriminant\" ))\n",
    "denominator= tf.multiply(2.0, a, name='denominator')\n",
    "NEGb= tf.negative(b,name=\"negb\")\n",
    "negDis = tf.negative(discriminant,name ='negDiscriminant')\n",
    "root1 = tf.divide( tf.add( NEGb, discriminant, name='add_root1' ),denominator, name=\"root1\")\n",
    "root2 = tf.divide( tf.add( NEGb, negDis, name='add_root2'), denominator , name=\"root2\" )\n",
    "\n",
    "file_writer= tf.summary.FileWriter(\"./datasets/myTensorboardLogs/Lab1_classExample/\", tf.get_default_graph())"
   ]
  },
  {
   "cell_type": "code",
   "execution_count": 64,
   "metadata": {},
   "outputs": [],
   "source": [
    "sess = tf.Session()"
   ]
  },
  {
   "cell_type": "code",
   "execution_count": 65,
   "metadata": {},
   "outputs": [
    {
     "data": {
      "text/plain": [
       "[0.0, -1.6666666]"
      ]
     },
     "execution_count": 65,
     "metadata": {},
     "output_type": "execute_result"
    }
   ],
   "source": [
    "sess.run(fetches=[root1,root2],feed_dict={a:3,b:5,c:0})"
   ]
  },
  {
   "cell_type": "code",
   "execution_count": null,
   "metadata": {
    "collapsed": true
   },
   "outputs": [],
   "source": []
  }
 ],
 "metadata": {
  "kernelspec": {
   "display_name": "Python 3",
   "language": "python",
   "name": "python3"
  },
  "language_info": {
   "codemirror_mode": {
    "name": "ipython",
    "version": 3
   },
   "file_extension": ".py",
   "mimetype": "text/x-python",
   "name": "python",
   "nbconvert_exporter": "python",
   "pygments_lexer": "ipython3",
   "version": "3.6.2"
  }
 },
 "nbformat": 4,
 "nbformat_minor": 2
}
